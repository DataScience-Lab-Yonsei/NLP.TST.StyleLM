{
 "cells": [
  {
   "cell_type": "markdown",
   "metadata": {},
   "source": [
    "# Setting"
   ]
  },
  {
   "cell_type": "code",
   "execution_count": 1,
   "metadata": {},
   "outputs": [],
   "source": [
    "from pprint import pprint"
   ]
  },
  {
   "cell_type": "markdown",
   "metadata": {},
   "source": [
    "root directory"
   ]
  },
  {
   "cell_type": "code",
   "execution_count": 2,
   "metadata": {},
   "outputs": [
    {
     "data": {
      "text/plain": [
       "'c:\\\\GitRepo\\\\DSL\\\\Modeling_CHCHG'"
      ]
     },
     "execution_count": 2,
     "metadata": {},
     "output_type": "execute_result"
    }
   ],
   "source": [
    "import os\n",
    "import sys\n",
    "\n",
    "os.chdir('..')\n",
    "os.getcwd()"
   ]
  },
  {
   "cell_type": "code",
   "execution_count": 3,
   "metadata": {},
   "outputs": [],
   "source": [
    "path_root = os.getcwd()"
   ]
  },
  {
   "cell_type": "markdown",
   "metadata": {},
   "source": [
    "# DB\n",
    "\n",
    "- 대본형태의 raw 파일로, 일부 파일을 보고 업데이트하는 과정은 utils/token에서 구현진행"
   ]
  },
  {
   "cell_type": "code",
   "execution_count": 4,
   "metadata": {},
   "outputs": [],
   "source": [
    "from utils.token.inter_raw import read_raw"
   ]
  },
  {
   "cell_type": "code",
   "execution_count": 5,
   "metadata": {},
   "outputs": [],
   "source": [
    "path_script = f\"{path_root}/db/raw\"\n",
    "script_names = [\"신세계\", \"써니\", \"올드보이\", \"은밀하게_위대하게\"]"
   ]
  },
  {
   "cell_type": "markdown",
   "metadata": {},
   "source": [
    "파일 읽기"
   ]
  },
  {
   "cell_type": "code",
   "execution_count": 6,
   "metadata": {},
   "outputs": [],
   "source": [
    "script_dict = dict()\n",
    "for script in script_names:\n",
    "    script_dict[script] = read_raw(path_script, script)"
   ]
  },
  {
   "cell_type": "markdown",
   "metadata": {},
   "source": [
    "raw 데이터의 상태"
   ]
  },
  {
   "cell_type": "code",
   "execution_count": 7,
   "metadata": {},
   "outputs": [
    {
     "name": "stdout",
     "output_type": "stream",
     "text": [
      "****************************************************************************************************\n",
      "Script 신세계\n",
      "Size: 3943\n",
      "****************************************************************************************************\n",
      "Script 써니\n",
      "Size: 2863\n",
      "****************************************************************************************************\n",
      "Script 올드보이\n",
      "Size: 2150\n",
      "****************************************************************************************************\n",
      "Script 은밀하게_위대하게\n",
      "Size: 3142\n"
     ]
    }
   ],
   "source": [
    "# 개수\n",
    "for name, script in script_dict.items():\n",
    "    print('*'*100)\n",
    "    print(f\"Script {name}\")\n",
    "    print(f\"Size: {len(script)}\")"
   ]
  },
  {
   "cell_type": "code",
   "execution_count": 8,
   "metadata": {},
   "outputs": [
    {
     "data": {
      "text/plain": [
       "0                           Gangster epic noir \\n\n",
       "1                                              \\n\n",
       "2                                              \\n\n",
       "3                                              \\n\n",
       "4                                              \\n\n",
       "                          ...                    \n",
       "3938    그런 그들을 바라보는 자성의 자신만만한 미소... 그 모습에서...  \\n\n",
       "3939                                           \\n\n",
       "3940                                  빠르게 암전...\\n\n",
       "3941                                           \\n\n",
       "3942                                            終\n",
       "Length: 3943, dtype: object"
      ]
     },
     "execution_count": 8,
     "metadata": {},
     "output_type": "execute_result"
    }
   ],
   "source": [
    "script_dict['신세계']"
   ]
  },
  {
   "cell_type": "markdown",
   "metadata": {},
   "source": [
    "# Preprocess"
   ]
  },
  {
   "cell_type": "code",
   "execution_count": 9,
   "metadata": {},
   "outputs": [],
   "source": [
    "from utils.token.inter_raw import process_raw"
   ]
  },
  {
   "cell_type": "code",
   "execution_count": 10,
   "metadata": {},
   "outputs": [],
   "source": [
    "for name, script in script_dict.items():\n",
    "    script_dict[name] = process_raw(script)"
   ]
  },
  {
   "cell_type": "code",
   "execution_count": 13,
   "metadata": {},
   "outputs": [
    {
     "data": {
      "text/plain": [
       "0                                   Gangster epic noir \n",
       "1                                                      \n",
       "2                                                 신 세 계\n",
       "3                                                 (新世界)\n",
       "4                                                 -최종고-\n",
       "5                                                      \n",
       "6                                                      \n",
       "7                                         각본/감독   박 훈 정\n",
       "8                                               1. 프롤로그\n",
       "9                               1. 도심, 거리/고국장 차안- 실내외/밤\n",
       "10     무지의 화면 위, 어디선가 핸드폰 신호음이 들려온다. 그와 함께 서서히 열리는 화면. \n",
       "11            도심의 불빛들과 그 사이로 빌딩 대형 전광판 화면들이 보이기 시작한다.  \n",
       "12    여유로운 웃음을 흘리며 검찰에 출두하고 있는 석회장의 모습이 화면을 가득 메우고, ...\n",
       "13                              [검찰, 골드문 석동출 회장 불기소 처분]\n",
       "14                     [“제기된 모든 혐의에 대한 구체적 혐의점 찾지 못해”] \n",
       "15    [경찰 ”검찰 판단, 납득 할 수 없어” 강력 반발]  따위의 띠 자막이 흐르고 있다. \n",
       "16                                   cut to) 고국장의 차 안. \n",
       "17       핸드폰을 하며 차창너머 석회장 관련 뉴스를 못마땅한 눈길로 힐끗 올려다보는 고국장.\n",
       "18                                    2. 편의점, 내부- 실내/밤 \n",
       "19    신호음이 계속되는 가운데... 누군가의 손길이 컵라면의 뚜껑을 젖힌다. 김이 모락모...\n",
       "dtype: object"
      ]
     },
     "execution_count": 13,
     "metadata": {},
     "output_type": "execute_result"
    }
   ],
   "source": [
    "script_dict['신세계'].head(20)"
   ]
  },
  {
   "cell_type": "markdown",
   "metadata": {},
   "source": [
    "TODO: 데이터 처리시작 \n",
    "\n",
    "1. 데이터를 보고 패턴들 파악\n",
    "    - 대본 속 지문은 어떻게 작성되는가\n",
    "    - 지문 말고도 필요없는 글자들은 무엇인가\n",
    "    - 반복되는 기호들은 어떻게 처리할 것인가"
   ]
  },
  {
   "cell_type": "code",
   "execution_count": null,
   "metadata": {},
   "outputs": [],
   "source": []
  }
 ],
 "metadata": {
  "kernelspec": {
   "display_name": "Python 3.8.13 ('chchg')",
   "language": "python",
   "name": "python3"
  },
  "language_info": {
   "codemirror_mode": {
    "name": "ipython",
    "version": 3
   },
   "file_extension": ".py",
   "mimetype": "text/x-python",
   "name": "python",
   "nbconvert_exporter": "python",
   "pygments_lexer": "ipython3",
   "version": "3.8.13"
  },
  "orig_nbformat": 4,
  "vscode": {
   "interpreter": {
    "hash": "9c238036f9c3b0e8d5d8fa1e88ab79120e94d13063b5d21171b78836ec694d0c"
   }
  }
 },
 "nbformat": 4,
 "nbformat_minor": 2
}
